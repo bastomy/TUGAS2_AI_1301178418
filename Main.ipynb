{
 "cells": [
  {
   "cell_type": "markdown",
   "metadata": {},
   "source": [
    "<h2> TUGAS 2 AI </h2>"
   ]
  },
  {
   "cell_type": "markdown",
   "metadata": {},
   "source": [
    "NAMA  : Bastomy <br>\n",
    "NIM   : 1301178418 <br>\n",
    "Kelas : IF-40-GAB06"
   ]
  },
  {
   "cell_type": "code",
   "execution_count": null,
   "metadata": {},
   "outputs": [],
   "source": [
    "import pandas as pd\n",
    "import numpy a np\n",
    "import matplotlib.pyplot as plt"
   ]
  },
  {
   "cell_type": "code",
   "execution_count": null,
   "metadata": {},
   "outputs": [],
   "source": [
    "data = pd.read_csv(\"DataTugas2.csv\").as_matrix()"
   ]
  },
  {
   "cell_type": "code",
   "execution_count": null,
   "metadata": {},
   "outputs": [],
   "source": [
    "x = data[:,1:2]\n",
    "y = data[:,2:3]"
   ]
  },
  {
   "cell_type": "code",
   "execution_count": null,
   "metadata": {},
   "outputs": [],
   "source": [
    "plt.title('Persebaran data')\n",
    "plt.xlabel('Gaji')\n",
    "plt.ylabel('Hutang')\n",
    "plt.scatter(x, y, c='green', s=10)"
   ]
  },
  {
   "cell_type": "markdown",
   "metadata": {},
   "source": [
    "### Tahap 1 (Menentukan Value)"
   ]
  },
  {
   "cell_type": "markdown",
   "metadata": {},
   "source": [
    "pendapatan= low, medium, high <br>\n",
    "hutang    = kecil, besar <br>\n",
    "diterima  = ya, tidak, mungkin <br>"
   ]
  },
  {
   "cell_type": "code",
   "execution_count": null,
   "metadata": {},
   "outputs": [],
   "source": [
    "fGaji = []"
   ]
  },
  {
   "cell_type": "markdown",
   "metadata": {},
   "source": [
    "### Tahap 2 (Menentukan Membership)"
   ]
  },
  {
   "cell_type": "markdown",
   "metadata": {},
   "source": [
    "<strong>Grafik Klasifikasi Pendapatan</strong>"
   ]
  },
  {
   "cell_type": "code",
   "execution_count": null,
   "metadata": {},
   "outputs": [],
   "source": [
    "low_x = [0, 0.5, 0.75]\n",
    "low_y = [1, 1, 0]\n",
    "\n",
    "medium_x= [0.5, 0.75, 1.25,1.5]\n",
    "medium_y= [0, 1, 1 ,0]\n",
    "\n",
    "high_x = [1.25, 1.5, 2] \n",
    "high_y = [0, 1, 1]\n",
    "\n",
    "plt.plot(low_x, low_y, color=\"r\" , label=\"low\")\n",
    "plt.plot(medium_x, medium_y, color=\"g\", label=\"medium\")\n",
    "plt.plot(high_x, high_y, color=\"b\", label=\"high\")\n",
    "plt.xlabel('pendapatan')\n",
    "plt.ylabel('garis')\n",
    "plt.title('Grafik Klasifikasi Pendapatan')\n",
    "plt.legend()"
   ]
  },
  {
   "cell_type": "markdown",
   "metadata": {},
   "source": [
    "### Rule Gaji\n",
    "<table>\n",
    "    <tr>\n",
    "        <td>Low</td>\n",
    "        <td>:</td>        \n",
    "        <td><b>0 - 0.5</b></td>\n",
    "    </tr>\n",
    "    <tr>\n",
    "        <td>Low-Medium</td>\n",
    "        <td>:</td>        \n",
    "        <td><b>>0.5 - < 0.75</b></td>\n",
    "    </tr>\n",
    "    <tr>\n",
    "        <td>Medium</td>\n",
    "        <td>:</td>        \n",
    "        <td><b>0.75 - 1.25</b></td>\n",
    "    </tr>\n",
    "    <tr>\n",
    "        <td>Medium-High</td>\n",
    "        <td>:</td>        \n",
    "        <td><b> >1.25 - < 1.5</b></td>\n",
    "    </tr>\n",
    "    <tr>\n",
    "        <td>High</td>\n",
    "        <td>:</td>        \n",
    "        <td><b>1.5</b> - <b>2.0</b></td>\n",
    "    </tr>\n",
    "</table>"
   ]
  },
  {
   "cell_type": "markdown",
   "metadata": {},
   "source": [
    "<strong>Grafik Klasifikasi Hutang</strong>"
   ]
  },
  {
   "cell_type": "code",
   "execution_count": null,
   "metadata": {},
   "outputs": [],
   "source": [
    "low_x = [0, 45, 55]\n",
    "low_y = [1, 1, 0]\n",
    "\n",
    "medium_x= [45, 55, 100]\n",
    "medium_y= [0, 1 ,1]\n",
    "\n",
    "plt.plot(low_x, low_y, color=\"r\" , label=\"kecil\")\n",
    "plt.plot(medium_x, medium_y, color=\"b\", label=\"besar\")\n",
    "plt.xlabel('Hutang')\n",
    "plt.ylabel('garis')\n",
    "plt.title('Grafik Klasifikasi Hutang')\n",
    "plt.legend()"
   ]
  },
  {
   "cell_type": "markdown",
   "metadata": {},
   "source": [
    "### Rule Hutang\n",
    "<table>\n",
    "    <tr>\n",
    "        <td>Kecil</td>\n",
    "        <td>:</td>        \n",
    "        <td><b>0 - 0.45</b></td>\n",
    "    </tr>\n",
    "    <tr>\n",
    "        <td>Kecil-Besar</td>\n",
    "        <td>:</td>        \n",
    "        <td><b>>0.45 - < 0.55</b></td>\n",
    "    </tr>\n",
    "    <tr>\n",
    "        <td>Besar</td>\n",
    "        <td>:</td>        \n",
    "        <td><b>0.55 - 100</b></td>\n",
    "    </tr>\n",
    "</table>"
   ]
  },
  {
   "cell_type": "markdown",
   "metadata": {},
   "source": [
    "### Tahap 3 (Fuzzification)"
   ]
  },
  {
   "cell_type": "code",
   "execution_count": null,
   "metadata": {},
   "outputs": [],
   "source": [
    "def fuzzyficationGajiLow(x):\n",
    "    if (x <= 0.5):\n",
    "        return 1\n",
    "    elif((x>0.5) and (x<0.75)):\n",
    "        return abs((x-0.75)/(0.75-0.5))\n",
    "    else:\n",
    "        return 0"
   ]
  },
  {
   "cell_type": "code",
   "execution_count": null,
   "metadata": {},
   "outputs": [],
   "source": [
    "def fuzzyficationGajiMedium(x):\n",
    "    if((x>=0.75) and (x<=1.25)):\n",
    "        return 1\n",
    "    elif((x>1.25) and (x<1.5)):\n",
    "        return abs((x-1.5)/(1.5-1.25))\n",
    "    else:\n",
    "        return 0"
   ]
  },
  {
   "cell_type": "code",
   "execution_count": null,
   "metadata": {},
   "outputs": [],
   "source": [
    "def fuzzyficationGajiHigh(x):\n",
    "    if(x>=1.5):\n",
    "        return 1\n",
    "    else:\n",
    "        return 0"
   ]
  },
  {
   "cell_type": "code",
   "execution_count": null,
   "metadata": {},
   "outputs": [],
   "source": [
    "def fuzyficationGaji(x):\n",
    "    fGaji.append([fuzzyficationGajiLow(x),fuzzyficationGajiMedium(x),fuzzyficationGajiHigh(x)])"
   ]
  },
  {
   "cell_type": "code",
   "execution_count": null,
   "metadata": {},
   "outputs": [],
   "source": [
    "for i in range(len(x)) :\n",
    "    fuzyficationGaji(x[i])"
   ]
  },
  {
   "cell_type": "markdown",
   "metadata": {},
   "source": [
    "### Tahap 4 (Rule)"
   ]
  },
  {
   "cell_type": "markdown",
   "metadata": {},
   "source": [
    "<table>\n",
    "    <tr>\n",
    "        <td>Hutang/Pendapatan</td>\n",
    "        <td>Low</td>\n",
    "        <td>Medium</td>\n",
    "        <td>High</td>\n",
    "    </tr>\n",
    "    <tr>\n",
    "        <td>Kecil</td>\n",
    "        <td>M</td>\n",
    "        <td>M</td>\n",
    "        <td>N</td>\n",
    "    </tr>\n",
    "    <tr>\n",
    "        <td>Besar</td>\n",
    "        <td>Y</td>\n",
    "        <td>Y</td>\n",
    "        <td>N</td>\n",
    "    </tr>    \n",
    "</table>"
   ]
  },
  {
   "cell_type": "markdown",
   "metadata": {},
   "source": [
    "### Tahap 5 (Inferensi)"
   ]
  },
  {
   "cell_type": "markdown",
   "metadata": {},
   "source": [
    "### Tahap 6 (De-Fuzzyfication)"
   ]
  },
  {
   "cell_type": "code",
   "execution_count": null,
   "metadata": {},
   "outputs": [],
   "source": []
  }
 ],
 "metadata": {
  "kernelspec": {
   "display_name": "Python 3",
   "language": "python",
   "name": "python3"
  },
  "language_info": {
   "codemirror_mode": {
    "name": "ipython",
    "version": 3
   },
   "file_extension": ".py",
   "mimetype": "text/x-python",
   "name": "python",
   "nbconvert_exporter": "python",
   "pygments_lexer": "ipython3",
   "version": "3.7.0"
  }
 },
 "nbformat": 4,
 "nbformat_minor": 2
}
