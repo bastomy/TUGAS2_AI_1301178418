{
 "cells": [
  {
   "cell_type": "markdown",
   "metadata": {},
   "source": [
    "<h2> TUGAS 2 AI </h2>"
   ]
  },
  {
   "cell_type": "markdown",
   "metadata": {},
   "source": [
    "NAMA  : Bastomy <br>\n",
    "NIM   : 1301178418 <br>\n",
    "Kelas : IF-40-GAB06"
   ]
  },
  {
   "cell_type": "code",
   "execution_count": 1,
   "metadata": {},
   "outputs": [],
   "source": [
    "import pandas as pd\n",
    "import numpy as np\n",
    "import matplotlib.pyplot as plt"
   ]
  },
  {
   "cell_type": "code",
   "execution_count": 2,
   "metadata": {},
   "outputs": [
    {
     "name": "stderr",
     "output_type": "stream",
     "text": [
      "C:\\ProgramData\\Anaconda3\\lib\\site-packages\\ipykernel_launcher.py:1: FutureWarning: Method .as_matrix will be removed in a future version. Use .values instead.\n",
      "  \"\"\"Entry point for launching an IPython kernel.\n"
     ]
    }
   ],
   "source": [
    "data = pd.read_csv(\"DataTugas2.csv\").as_matrix()"
   ]
  },
  {
   "cell_type": "code",
   "execution_count": 3,
   "metadata": {},
   "outputs": [],
   "source": [
    "x = data[:,1:2]\n",
    "y = data[:,2:3]"
   ]
  },
  {
   "cell_type": "code",
   "execution_count": 4,
   "metadata": {},
   "outputs": [
    {
     "data": {
      "text/plain": [
       "<matplotlib.collections.PathCollection at 0x16cbb893630>"
      ]
     },
     "execution_count": 4,
     "metadata": {},
     "output_type": "execute_result"
    },
    {
     "data": {
      "image/png": "[encoded data removed]",
      "text/plain": [
       "<Figure size 432x288 with 1 Axes>"
      ]
     },
     "metadata": {
      "needs_background": "light"
     },
     "output_type": "display_data"
    }
   ],
   "source": [
    "plt.scatter(x, y, c='green', s=10)"
   ]
  },
  {
   "cell_type": "markdown",
   "metadata": {},
   "source": [
    "linguistik"
   ]
  },
  {
   "cell_type": "code",
   "execution_count": null,
   "metadata": {},
   "outputs": [],
   "source": [
    "pendapatan= [\"low\",\"medium\",\"high\"]\n",
    "hutang    = [\"kecil\",\"besar\"]\n",
    "diterima  = [\"ya\",\"tidak\",\"mungkin\"]"
   ]
  },
  {
   "cell_type": "code",
   "execution_count": 24,
   "metadata": {},
   "outputs": [
    {
     "data": {
      "image/png": "[encoded data removed]",
      "text/plain": [
       "<Figure size 432x288 with 1 Axes>"
      ]
     },
     "metadata": {
      "needs_background": "light"
     },
     "output_type": "display_data"
    }
   ],
   "source": [
    "low_x = [0, 0.5, 0.75]\n",
    "low_y = [1, 1, 0]\n",
    "\n",
    "medium_x= [0.5, 0.75, 1.25,1.5]\n",
    "medium_y= [0, 1, 1 ,0]\n",
    "\n",
    "high_x = [1.25, 1.5, 2] \n",
    "high_y = [0, 1, 1]\n",
    "\n",
    "plt.plot(low_x, low_y, color=\"r\")\n",
    "plt.plot(medium_x, medium_y, color=\"g\")\n",
    "plt.plot(high_x, high_y, color=\"b\")\n",
    "plt.title('Pendapatan')\n",
    "plt.show()"
   ]
  },
  {
   "cell_type": "code",
   "execution_count": null,
   "metadata": {},
   "outputs": [],
   "source": []
  },
  {
   "cell_type": "code",
   "execution_count": null,
   "metadata": {},
   "outputs": [],
   "source": []
  },
  {
   "cell_type": "code",
   "execution_count": null,
   "metadata": {},
   "outputs": [],
   "source": [
    "# fig, (ax1) = plt.subplots(nrows=1, figsize=(8, 9))\n",
    "# x_serv = np.arange(21)\n",
    "# serv_lo = fuzz.trimf(x_serv, [5, 5, 5])\n",
    "# serv_md = fuzz.trimf(x_serv, [0, 5, 10])\n",
    "# serv_hi = fuzz.trimf(x_serv, [5, 10, 10])\n",
    "# ax1.plot(x_serv, serv_lo, 'r', linewidth=1.5, label='Low')\n",
    "# ax1.plot(x_serv, serv_md, 'g', linewidth=1.5, label='Medium')\n",
    "# ax1.plot(x_serv, serv_hi, 'b', linewidth=1.5, label='High')\n",
    "# ax1.set_title('')\n",
    "# ax1.legend()"
   ]
  }
 ],
 "metadata": {
  "kernelspec": {
   "display_name": "Python 3",
   "language": "python",
   "name": "python3"
  },
  "language_info": {
   "codemirror_mode": {
    "name": "ipython",
    "version": 3
   },
   "file_extension": ".py",
   "mimetype": "text/x-python",
   "name": "python",
   "nbconvert_exporter": "python",
   "pygments_lexer": "ipython3",
   "version": "3.7.0"
  }
 },
 "nbformat": 4,
 "nbformat_minor": 2
}
